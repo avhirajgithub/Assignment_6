{
 "cells": [
  {
   "cell_type": "markdown",
   "id": "665c5090",
   "metadata": {},
   "source": [
    "1.What are Escape characters ? and how do you use them ?\n",
    "\n",
    "Ans-In Python strings, the backslash \"\\\" is a special character, also called the \"escape\" character. It is used in representing certain whitespace characters.\n",
    "eg - \\t ,\\n"
   ]
  },
  {
   "cell_type": "markdown",
   "id": "08a0ce45",
   "metadata": {},
   "source": [
    "2.What do the escape characters n and t stand for ?\n",
    "\n",
    "Ans-  \"\\n\" is a newline, and \"\\t\" is a tab."
   ]
  },
  {
   "cell_type": "markdown",
   "id": "4767614d",
   "metadata": {},
   "source": [
    "3.What is the way to include backslash character in a string?\n",
    "\n",
    "Ans-The \\\\ escape character will represent the backslash character in a string.\n",
    "eg- var s = \"\\\\task\""
   ]
  },
  {
   "cell_type": "markdown",
   "id": "6c068bc6",
   "metadata": {},
   "source": [
    "4.The string \"Howl's Moving Castle\" is a correct value. Why isn't the single quote character in the word Howl's not escaped a problem ?\n",
    "\n",
    "Ans-The string \"Howl's Moving Castle\" not escaped a problen because it is wrapped inside a double quotes,if it is wrapped inside a single quotes then we have to use escape character \\'to show single quotes in final output.\n",
    "eg-'Howl\\'s Moving Castle' -> 'Howl's Moving Castle'\n",
    "\n"
   ]
  },
  {
   "cell_type": "markdown",
   "id": "ecffe4bf",
   "metadata": {},
   "source": [
    "5.How do you write a string of newlines if you don't want to use the n character?\n",
    "\n",
    "Ans- By wrapping the string character inside a triple quotes.it allowa us to use newlines in string without using \\n escape character."
   ]
  },
  {
   "cell_type": "code",
   "execution_count": 1,
   "id": "aa87e1bf",
   "metadata": {
    "scrolled": true
   },
   "outputs": [
    {
     "name": "stdout",
     "output_type": "stream",
     "text": [
      "hello i am learning \n",
      "data science from ineuron\n"
     ]
    }
   ],
   "source": [
    "#eg\n",
    "a = '''hello i am learning \n",
    "data science from ineuron'''\n",
    "print(a)"
   ]
  },
  {
   "cell_type": "markdown",
   "id": "551d2f7e",
   "metadata": {},
   "source": [
    "6.What are the values of the given expressions ?\n",
    "\n",
    "Ans- The values of the given expressions are :-\n",
    "\n",
    "'Hello, world!'[1] -> 'e'\n",
    "'Hello, world!'[0:5] -> 'Hello'\n",
    "'Hello, world!'[:5] -> 'Hello'\n",
    "'Hello, world!'[3:] -> 'lo, world!'"
   ]
  },
  {
   "cell_type": "code",
   "execution_count": 11,
   "id": "2f7d5401",
   "metadata": {},
   "outputs": [],
   "source": [
    "a = 'Hello, world!'"
   ]
  },
  {
   "cell_type": "code",
   "execution_count": 12,
   "id": "e1dc1058",
   "metadata": {},
   "outputs": [
    {
     "data": {
      "text/plain": [
       "'e'"
      ]
     },
     "execution_count": 12,
     "metadata": {},
     "output_type": "execute_result"
    }
   ],
   "source": [
    "a[1]"
   ]
  },
  {
   "cell_type": "code",
   "execution_count": 8,
   "id": "7e5ee9a8",
   "metadata": {},
   "outputs": [
    {
     "data": {
      "text/plain": [
       "'Hello'"
      ]
     },
     "execution_count": 8,
     "metadata": {},
     "output_type": "execute_result"
    }
   ],
   "source": [
    "a[0:5]"
   ]
  },
  {
   "cell_type": "code",
   "execution_count": 9,
   "id": "a61a988b",
   "metadata": {},
   "outputs": [
    {
     "data": {
      "text/plain": [
       "'Hello'"
      ]
     },
     "execution_count": 9,
     "metadata": {},
     "output_type": "execute_result"
    }
   ],
   "source": [
    "a[:5]"
   ]
  },
  {
   "cell_type": "code",
   "execution_count": 10,
   "id": "e0326b91",
   "metadata": {},
   "outputs": [
    {
     "data": {
      "text/plain": [
       "'lo, world!'"
      ]
     },
     "execution_count": 10,
     "metadata": {},
     "output_type": "execute_result"
    }
   ],
   "source": [
    "a[3:]"
   ]
  },
  {
   "cell_type": "markdown",
   "id": "aeb353cd",
   "metadata": {},
   "source": [
    "7.What are the values of the following expressions ?\n",
    " "
   ]
  },
  {
   "cell_type": "markdown",
   "id": "a389f1cb",
   "metadata": {},
   "source": [
    "Ans- the values are:-"
   ]
  },
  {
   "cell_type": "markdown",
   "id": "2f2089ca",
   "metadata": {},
   "source": [
    "'Hello'.upper() -> 'HELLO'"
   ]
  },
  {
   "cell_type": "markdown",
   "id": "22529369",
   "metadata": {},
   "source": [
    "\n",
    "'Hello'.upper().isupper() -> True\n",
    "\n",
    "\n"
   ]
  },
  {
   "cell_type": "markdown",
   "id": "8988a55a",
   "metadata": {},
   "source": [
    "\n",
    "'Hello'.upper().lower() -> 'hello'\n",
    "\n"
   ]
  },
  {
   "cell_type": "code",
   "execution_count": 15,
   "id": "6527bfda",
   "metadata": {},
   "outputs": [
    {
     "data": {
      "text/plain": [
       "'HELLO'"
      ]
     },
     "execution_count": 15,
     "metadata": {},
     "output_type": "execute_result"
    }
   ],
   "source": [
    "'Hello'.upper()"
   ]
  },
  {
   "cell_type": "code",
   "execution_count": 18,
   "id": "67ff24bc",
   "metadata": {},
   "outputs": [
    {
     "data": {
      "text/plain": [
       "True"
      ]
     },
     "execution_count": 18,
     "metadata": {},
     "output_type": "execute_result"
    }
   ],
   "source": [
    "'Hello'.upper().isupper()"
   ]
  },
  {
   "cell_type": "code",
   "execution_count": 20,
   "id": "e57cf25f",
   "metadata": {},
   "outputs": [
    {
     "data": {
      "text/plain": [
       "'hello'"
      ]
     },
     "execution_count": 20,
     "metadata": {},
     "output_type": "execute_result"
    }
   ],
   "source": [
    "'Hello'.upper().lower()"
   ]
  },
  {
   "cell_type": "markdown",
   "id": "c95f5b68",
   "metadata": {},
   "source": [
    "8.What are the values of the following expressions ?\n",
    "\n",
    "'Remember, remember, the fifith of July.'.split()\n",
    "-'.join('There can only one'.split())"
   ]
  },
  {
   "cell_type": "markdown",
   "id": "f47246bf",
   "metadata": {},
   "source": [
    "Ans-['Remember,', 'remember,', 'the', 'fifith', 'of', 'July.']"
   ]
  },
  {
   "cell_type": "code",
   "execution_count": 25,
   "id": "4a5e338a",
   "metadata": {},
   "outputs": [
    {
     "data": {
      "text/plain": [
       "['Remember,', 'remember,', 'the', 'fifith', 'of', 'July.']"
      ]
     },
     "execution_count": 25,
     "metadata": {},
     "output_type": "execute_result"
    }
   ],
   "source": [
    "#eg\n",
    "a='Remember, remember, the fifith of July.'\n",
    "a.split()"
   ]
  },
  {
   "cell_type": "markdown",
   "id": "b6e57bcb",
   "metadata": {},
   "source": [
    "9.What are the methods for right-justifying, left-justifying and centering a string ?\n",
    "\n",
    "Ans- The rjust(),ljust(),center() string methods, respectively"
   ]
  },
  {
   "cell_type": "markdown",
   "id": "12d0e597",
   "metadata": {},
   "source": [
    "10.What is the best way to remove whitespace characters from the start or end ?\n",
    "\n",
    "Ans- The lstrip() and rstrip() methods remove whitesapce characters from the left and right ends of a string respectively"
   ]
  },
  {
   "cell_type": "code",
   "execution_count": null,
   "id": "c669a4c4",
   "metadata": {},
   "outputs": [],
   "source": []
  }
 ],
 "metadata": {
  "kernelspec": {
   "display_name": "Python 3 (ipykernel)",
   "language": "python",
   "name": "python3"
  },
  "language_info": {
   "codemirror_mode": {
    "name": "ipython",
    "version": 3
   },
   "file_extension": ".py",
   "mimetype": "text/x-python",
   "name": "python",
   "nbconvert_exporter": "python",
   "pygments_lexer": "ipython3",
   "version": "3.9.12"
  }
 },
 "nbformat": 4,
 "nbformat_minor": 5
}
